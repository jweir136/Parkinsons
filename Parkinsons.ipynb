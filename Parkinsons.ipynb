{
  "nbformat": 4,
  "nbformat_minor": 0,
  "metadata": {
    "colab": {
      "name": "Parkinsons",
      "version": "0.3.2",
      "provenance": [],
      "collapsed_sections": [],
      "include_colab_link": true
    },
    "kernelspec": {
      "name": "python3",
      "display_name": "Python 3"
    }
  },
  "cells": [
    {
      "cell_type": "markdown",
      "metadata": {
        "id": "view-in-github",
        "colab_type": "text"
      },
      "source": [
        "<a href=\"https://colab.research.google.com/github/jweir136/Parkinsons/blob/master/Parkinsons.ipynb\" target=\"_parent\"><img src=\"https://colab.research.google.com/assets/colab-badge.svg\" alt=\"Open In Colab\"/></a>"
      ]
    },
    {
      "metadata": {
        "id": "2O2sLjyYMHuj",
        "colab_type": "code",
        "colab": {}
      },
      "cell_type": "code",
      "source": [
        "import pandas as pd"
      ],
      "execution_count": 0,
      "outputs": []
    },
    {
      "metadata": {
        "id": "SULEJZUrMUhi",
        "colab_type": "code",
        "colab": {
          "base_uri": "https://localhost:8080/",
          "height": 510
        },
        "outputId": "7ab48fda-8750-4a52-a510-83e21b419265"
      },
      "cell_type": "code",
      "source": [
        "data = pd.read_csv(\"parkinsons_updrs.csv\").drop(['subject#'], axis=1)\n",
        "\n",
        "print(data.head())"
      ],
      "execution_count": 93,
      "outputs": [
        {
          "output_type": "stream",
          "text": [
            "   age  sex  test_time  motor_UPDRS  total_UPDRS  Jitter(%)  Jitter(Abs)  \\\n",
            "0   72    0     5.6431       28.199       34.398    0.00662     0.000034   \n",
            "1   72    0    12.6660       28.447       34.894    0.00300     0.000017   \n",
            "2   72    0    19.6810       28.695       35.389    0.00481     0.000025   \n",
            "3   72    0    25.6470       28.905       35.810    0.00528     0.000027   \n",
            "4   72    0    33.6420       29.187       36.375    0.00335     0.000020   \n",
            "\n",
            "   Jitter:RAP  Jitter:PPQ5  Jitter:DDP   ...     Shimmer(dB)  Shimmer:APQ3  \\\n",
            "0     0.00401      0.00317     0.01204   ...           0.230       0.01438   \n",
            "1     0.00132      0.00150     0.00395   ...           0.179       0.00994   \n",
            "2     0.00205      0.00208     0.00616   ...           0.181       0.00734   \n",
            "3     0.00191      0.00264     0.00573   ...           0.327       0.01106   \n",
            "4     0.00093      0.00130     0.00278   ...           0.176       0.00679   \n",
            "\n",
            "   Shimmer:APQ5  Shimmer:APQ11  Shimmer:DDA       NHR     HNR     RPDE  \\\n",
            "0       0.01309        0.01662      0.04314  0.014290  21.640  0.41888   \n",
            "1       0.01072        0.01689      0.02982  0.011112  27.183  0.43493   \n",
            "2       0.00844        0.01458      0.02202  0.020220  23.047  0.46222   \n",
            "3       0.01265        0.01963      0.03317  0.027837  24.445  0.48730   \n",
            "4       0.00929        0.01819      0.02036  0.011625  26.126  0.47188   \n",
            "\n",
            "       DFA      PPE  \n",
            "0  0.54842  0.16006  \n",
            "1  0.56477  0.10810  \n",
            "2  0.54405  0.21014  \n",
            "3  0.57794  0.33277  \n",
            "4  0.56122  0.19361  \n",
            "\n",
            "[5 rows x 21 columns]\n"
          ],
          "name": "stdout"
        }
      ]
    },
    {
      "metadata": {
        "id": "zq8ktfZZMoyv",
        "colab_type": "code",
        "colab": {}
      },
      "cell_type": "code",
      "source": [
        "import seaborn as sns\n",
        "import matplotlib.pyplot as plt\n",
        "%matplotlib inline"
      ],
      "execution_count": 0,
      "outputs": []
    },
    {
      "metadata": {
        "id": "qMT9PnPSNP17",
        "colab_type": "code",
        "colab": {
          "base_uri": "https://localhost:8080/",
          "height": 7871
        },
        "outputId": "d4f2b2f3-d427-4e18-d64f-1ea938ab5669"
      },
      "cell_type": "code",
      "source": [
        "for key in data.keys():\n",
        "  print(data.corr()[key])"
      ],
      "execution_count": 95,
      "outputs": [
        {
          "output_type": "stream",
          "text": [
            "age              1.000000\n",
            "sex             -0.041602\n",
            "test_time        0.019884\n",
            "motor_UPDRS      0.273665\n",
            "total_UPDRS      0.310290\n",
            "Jitter(%)        0.023071\n",
            "Jitter(Abs)      0.035691\n",
            "Jitter:RAP       0.010255\n",
            "Jitter:PPQ5      0.013199\n",
            "Jitter:DDP       0.010258\n",
            "Shimmer          0.101554\n",
            "Shimmer(dB)      0.111130\n",
            "Shimmer:APQ3     0.098912\n",
            "Shimmer:APQ5     0.089983\n",
            "Shimmer:APQ11    0.135238\n",
            "Shimmer:DDA      0.098913\n",
            "NHR              0.007093\n",
            "HNR             -0.104842\n",
            "RPDE             0.090208\n",
            "DFA             -0.092870\n",
            "PPE              0.120790\n",
            "Name: age, dtype: float64\n",
            "age             -0.041602\n",
            "sex              1.000000\n",
            "test_time       -0.009805\n",
            "motor_UPDRS     -0.031205\n",
            "total_UPDRS     -0.096559\n",
            "Jitter(%)        0.051422\n",
            "Jitter(Abs)     -0.154645\n",
            "Jitter:RAP       0.076718\n",
            "Jitter:PPQ5      0.087995\n",
            "Jitter:DDP       0.076703\n",
            "Shimmer          0.058736\n",
            "Shimmer(dB)      0.056481\n",
            "Shimmer:APQ3     0.044937\n",
            "Shimmer:APQ5     0.064819\n",
            "Shimmer:APQ11    0.023360\n",
            "Shimmer:DDA      0.044938\n",
            "NHR              0.168170\n",
            "HNR             -0.000167\n",
            "RPDE            -0.159262\n",
            "DFA             -0.165113\n",
            "PPE             -0.099901\n",
            "Name: sex, dtype: float64\n",
            "age              0.019884\n",
            "sex             -0.009805\n",
            "test_time        1.000000\n",
            "motor_UPDRS      0.067918\n",
            "total_UPDRS      0.075263\n",
            "Jitter(%)       -0.022837\n",
            "Jitter(Abs)     -0.011365\n",
            "Jitter:RAP      -0.028888\n",
            "Jitter:PPQ5     -0.023290\n",
            "Jitter:DDP      -0.028876\n",
            "Shimmer         -0.033870\n",
            "Shimmer(dB)     -0.030962\n",
            "Shimmer:APQ3    -0.029020\n",
            "Shimmer:APQ5    -0.036504\n",
            "Shimmer:APQ11   -0.039110\n",
            "Shimmer:DDA     -0.029017\n",
            "NHR             -0.026357\n",
            "HNR              0.036545\n",
            "RPDE            -0.038887\n",
            "DFA              0.019261\n",
            "PPE             -0.000563\n",
            "Name: test_time, dtype: float64\n",
            "age              0.273665\n",
            "sex             -0.031205\n",
            "test_time        0.067918\n",
            "motor_UPDRS      1.000000\n",
            "total_UPDRS      0.947231\n",
            "Jitter(%)        0.084816\n",
            "Jitter(Abs)      0.050903\n",
            "Jitter:RAP       0.072684\n",
            "Jitter:PPQ5      0.076291\n",
            "Jitter:DDP       0.072698\n",
            "Shimmer          0.102349\n",
            "Shimmer(dB)      0.110076\n",
            "Shimmer:APQ3     0.084261\n",
            "Shimmer:APQ5     0.092105\n",
            "Shimmer:APQ11    0.136560\n",
            "Shimmer:DDA      0.084260\n",
            "NHR              0.074967\n",
            "HNR             -0.157029\n",
            "RPDE             0.128607\n",
            "DFA             -0.116242\n",
            "PPE              0.162433\n",
            "Name: motor_UPDRS, dtype: float64\n",
            "age              0.310290\n",
            "sex             -0.096559\n",
            "test_time        0.075263\n",
            "motor_UPDRS      0.947231\n",
            "total_UPDRS      1.000000\n",
            "Jitter(%)        0.074247\n",
            "Jitter(Abs)      0.066927\n",
            "Jitter:RAP       0.064015\n",
            "Jitter:PPQ5      0.063352\n",
            "Jitter:DDP       0.064027\n",
            "Shimmer          0.092141\n",
            "Shimmer(dB)      0.098790\n",
            "Shimmer:APQ3     0.079363\n",
            "Shimmer:APQ5     0.083467\n",
            "Shimmer:APQ11    0.120838\n",
            "Shimmer:DDA      0.079363\n",
            "NHR              0.060952\n",
            "HNR             -0.162117\n",
            "RPDE             0.156897\n",
            "DFA             -0.113475\n",
            "PPE              0.156195\n",
            "Name: total_UPDRS, dtype: float64\n",
            "age              0.023071\n",
            "sex              0.051422\n",
            "test_time       -0.022837\n",
            "motor_UPDRS      0.084816\n",
            "total_UPDRS      0.074247\n",
            "Jitter(%)        1.000000\n",
            "Jitter(Abs)      0.865577\n",
            "Jitter:RAP       0.984181\n",
            "Jitter:PPQ5      0.968214\n",
            "Jitter:DDP       0.984184\n",
            "Shimmer          0.709791\n",
            "Shimmer(dB)      0.716704\n",
            "Shimmer:APQ3     0.664149\n",
            "Shimmer:APQ5     0.694002\n",
            "Shimmer:APQ11    0.645965\n",
            "Shimmer:DDA      0.664147\n",
            "NHR              0.825294\n",
            "HNR             -0.675188\n",
            "RPDE             0.427128\n",
            "DFA              0.226550\n",
            "PPE              0.721849\n",
            "Name: Jitter(%), dtype: float64\n",
            "age              0.035691\n",
            "sex             -0.154645\n",
            "test_time       -0.011365\n",
            "motor_UPDRS      0.050903\n",
            "total_UPDRS      0.066927\n",
            "Jitter(%)        0.865577\n",
            "Jitter(Abs)      1.000000\n",
            "Jitter:RAP       0.844626\n",
            "Jitter:PPQ5      0.790538\n",
            "Jitter:DDP       0.844630\n",
            "Shimmer          0.649046\n",
            "Shimmer(dB)      0.655871\n",
            "Shimmer:APQ3     0.623830\n",
            "Shimmer:APQ5     0.621401\n",
            "Shimmer:APQ11    0.589998\n",
            "Shimmer:DDA      0.623827\n",
            "NHR              0.699960\n",
            "HNR             -0.706418\n",
            "RPDE             0.547100\n",
            "DFA              0.352264\n",
            "PPE              0.787853\n",
            "Name: Jitter(Abs), dtype: float64\n",
            "age              0.010255\n",
            "sex              0.076718\n",
            "test_time       -0.028888\n",
            "motor_UPDRS      0.072684\n",
            "total_UPDRS      0.064015\n",
            "Jitter(%)        0.984181\n",
            "Jitter(Abs)      0.844626\n",
            "Jitter:RAP       1.000000\n",
            "Jitter:PPQ5      0.947196\n",
            "Jitter:DDP       1.000000\n",
            "Shimmer          0.681729\n",
            "Shimmer(dB)      0.685551\n",
            "Shimmer:APQ3     0.650226\n",
            "Shimmer:APQ5     0.659831\n",
            "Shimmer:APQ11    0.603082\n",
            "Shimmer:DDA      0.650225\n",
            "NHR              0.792373\n",
            "HNR             -0.641473\n",
            "RPDE             0.382891\n",
            "DFA              0.214881\n",
            "PPE              0.670652\n",
            "Name: Jitter:RAP, dtype: float64\n",
            "age              0.013199\n",
            "sex              0.087995\n",
            "test_time       -0.023290\n",
            "motor_UPDRS      0.076291\n",
            "total_UPDRS      0.063352\n",
            "Jitter(%)        0.968214\n",
            "Jitter(Abs)      0.790538\n",
            "Jitter:RAP       0.947196\n",
            "Jitter:PPQ5      1.000000\n",
            "Jitter:DDP       0.947203\n",
            "Shimmer          0.732747\n",
            "Shimmer(dB)      0.734591\n",
            "Shimmer:APQ3     0.676711\n",
            "Shimmer:APQ5     0.734021\n",
            "Shimmer:APQ11    0.668413\n",
            "Shimmer:DDA      0.676710\n",
            "NHR              0.864864\n",
            "HNR             -0.662409\n",
            "RPDE             0.381503\n",
            "DFA              0.175359\n",
            "PPE              0.663491\n",
            "Name: Jitter:PPQ5, dtype: float64\n",
            "age              0.010258\n",
            "sex              0.076703\n",
            "test_time       -0.028876\n",
            "motor_UPDRS      0.072698\n",
            "total_UPDRS      0.064027\n",
            "Jitter(%)        0.984184\n",
            "Jitter(Abs)      0.844630\n",
            "Jitter:RAP       1.000000\n",
            "Jitter:PPQ5      0.947203\n",
            "Jitter:DDP       1.000000\n",
            "Shimmer          0.681734\n",
            "Shimmer(dB)      0.685556\n",
            "Shimmer:APQ3     0.650228\n",
            "Shimmer:APQ5     0.659833\n",
            "Shimmer:APQ11    0.603090\n",
            "Shimmer:DDA      0.650227\n",
            "NHR              0.792377\n",
            "HNR             -0.641482\n",
            "RPDE             0.382886\n",
            "DFA              0.214893\n",
            "PPE              0.670660\n",
            "Name: Jitter:DDP, dtype: float64\n",
            "age              0.101554\n",
            "sex              0.058736\n",
            "test_time       -0.033870\n",
            "motor_UPDRS      0.102349\n",
            "total_UPDRS      0.092141\n",
            "Jitter(%)        0.709791\n",
            "Jitter(Abs)      0.649046\n",
            "Jitter:RAP       0.681729\n",
            "Jitter:PPQ5      0.732747\n",
            "Jitter:DDP       0.681734\n",
            "Shimmer          1.000000\n",
            "Shimmer(dB)      0.992334\n",
            "Shimmer:APQ3     0.979828\n",
            "Shimmer:APQ5     0.984904\n",
            "Shimmer:APQ11    0.935457\n",
            "Shimmer:DDA      0.979827\n",
            "NHR              0.795158\n",
            "HNR             -0.801416\n",
            "RPDE             0.468235\n",
            "DFA              0.132540\n",
            "PPE              0.615709\n",
            "Name: Shimmer, dtype: float64\n",
            "age              0.111130\n",
            "sex              0.056481\n",
            "test_time       -0.030962\n",
            "motor_UPDRS      0.110076\n",
            "total_UPDRS      0.098790\n",
            "Jitter(%)        0.716704\n",
            "Jitter(Abs)      0.655871\n",
            "Jitter:RAP       0.685551\n",
            "Jitter:PPQ5      0.734591\n",
            "Jitter:DDP       0.685556\n",
            "Shimmer          0.992334\n",
            "Shimmer(dB)      1.000000\n",
            "Shimmer:APQ3     0.968015\n",
            "Shimmer:APQ5     0.976373\n",
            "Shimmer:APQ11    0.936338\n",
            "Shimmer:DDA      0.968014\n",
            "NHR              0.798077\n",
            "HNR             -0.802496\n",
            "RPDE             0.472409\n",
            "DFA              0.126111\n",
            "PPE              0.635163\n",
            "Name: Shimmer(dB), dtype: float64\n",
            "age              0.098912\n",
            "sex              0.044937\n",
            "test_time       -0.029020\n",
            "motor_UPDRS      0.084261\n",
            "total_UPDRS      0.079363\n",
            "Jitter(%)        0.664149\n",
            "Jitter(Abs)      0.623830\n",
            "Jitter:RAP       0.650226\n",
            "Jitter:PPQ5      0.676711\n",
            "Jitter:DDP       0.650228\n",
            "Shimmer          0.979828\n",
            "Shimmer(dB)      0.968015\n",
            "Shimmer:APQ3     1.000000\n",
            "Shimmer:APQ5     0.962723\n",
            "Shimmer:APQ11    0.885695\n",
            "Shimmer:DDA      1.000000\n",
            "NHR              0.732736\n",
            "HNR             -0.780697\n",
            "RPDE             0.436878\n",
            "DFA              0.130735\n",
            "PPE              0.576704\n",
            "Name: Shimmer:APQ3, dtype: float64\n",
            "age              0.089983\n",
            "sex              0.064819\n",
            "test_time       -0.036504\n",
            "motor_UPDRS      0.092105\n",
            "total_UPDRS      0.083467\n",
            "Jitter(%)        0.694002\n",
            "Jitter(Abs)      0.621401\n",
            "Jitter:RAP       0.659831\n",
            "Jitter:PPQ5      0.734021\n",
            "Jitter:DDP       0.659833\n",
            "Shimmer          0.984904\n",
            "Shimmer(dB)      0.976373\n",
            "Shimmer:APQ3     0.962723\n",
            "Shimmer:APQ5     1.000000\n",
            "Shimmer:APQ11    0.938935\n",
            "Shimmer:DDA      0.962723\n",
            "NHR              0.798173\n",
            "HNR             -0.790638\n",
            "RPDE             0.450890\n",
            "DFA              0.128038\n",
            "PPE              0.593677\n",
            "Name: Shimmer:APQ5, dtype: float64\n",
            "age              0.135238\n",
            "sex              0.023360\n",
            "test_time       -0.039110\n",
            "motor_UPDRS      0.136560\n",
            "total_UPDRS      0.120838\n",
            "Jitter(%)        0.645965\n",
            "Jitter(Abs)      0.589998\n",
            "Jitter:RAP       0.603082\n",
            "Jitter:PPQ5      0.668413\n",
            "Jitter:DDP       0.603090\n",
            "Shimmer          0.935457\n",
            "Shimmer(dB)      0.936338\n",
            "Shimmer:APQ3     0.885695\n",
            "Shimmer:APQ5     0.938935\n",
            "Shimmer:APQ11    1.000000\n",
            "Shimmer:DDA      0.885694\n",
            "NHR              0.711546\n",
            "HNR             -0.777974\n",
            "RPDE             0.480739\n",
            "DFA              0.179648\n",
            "PPE              0.623416\n",
            "Name: Shimmer:APQ11, dtype: float64\n",
            "age              0.098913\n",
            "sex              0.044938\n",
            "test_time       -0.029017\n",
            "motor_UPDRS      0.084260\n",
            "total_UPDRS      0.079363\n",
            "Jitter(%)        0.664147\n",
            "Jitter(Abs)      0.623827\n",
            "Jitter:RAP       0.650225\n",
            "Jitter:PPQ5      0.676710\n",
            "Jitter:DDP       0.650227\n",
            "Shimmer          0.979827\n",
            "Shimmer(dB)      0.968014\n",
            "Shimmer:APQ3     1.000000\n",
            "Shimmer:APQ5     0.962723\n",
            "Shimmer:APQ11    0.885694\n",
            "Shimmer:DDA      1.000000\n",
            "NHR              0.732734\n",
            "HNR             -0.780696\n",
            "RPDE             0.436872\n",
            "DFA              0.130736\n",
            "PPE              0.576702\n",
            "Name: Shimmer:DDA, dtype: float64\n",
            "age              0.007093\n",
            "sex              0.168170\n",
            "test_time       -0.026357\n",
            "motor_UPDRS      0.074967\n",
            "total_UPDRS      0.060952\n",
            "Jitter(%)        0.825294\n",
            "Jitter(Abs)      0.699960\n",
            "Jitter:RAP       0.792373\n",
            "Jitter:PPQ5      0.864864\n",
            "Jitter:DDP       0.792377\n",
            "Shimmer          0.795158\n",
            "Shimmer(dB)      0.798077\n",
            "Shimmer:APQ3     0.732736\n",
            "Shimmer:APQ5     0.798173\n",
            "Shimmer:APQ11    0.711546\n",
            "Shimmer:DDA      0.732734\n",
            "NHR              1.000000\n",
            "HNR             -0.684412\n",
            "RPDE             0.416660\n",
            "DFA             -0.022088\n",
            "PPE              0.564654\n",
            "Name: NHR, dtype: float64\n",
            "age             -0.104842\n",
            "sex             -0.000167\n",
            "test_time        0.036545\n",
            "motor_UPDRS     -0.157029\n",
            "total_UPDRS     -0.162117\n",
            "Jitter(%)       -0.675188\n",
            "Jitter(Abs)     -0.706418\n",
            "Jitter:RAP      -0.641473\n",
            "Jitter:PPQ5     -0.662409\n",
            "Jitter:DDP      -0.641482\n",
            "Shimmer         -0.801416\n",
            "Shimmer(dB)     -0.802496\n",
            "Shimmer:APQ3    -0.780697\n",
            "Shimmer:APQ5    -0.790638\n",
            "Shimmer:APQ11   -0.777974\n",
            "Shimmer:DDA     -0.780696\n",
            "NHR             -0.684412\n",
            "HNR              1.000000\n",
            "RPDE            -0.659053\n",
            "DFA             -0.290519\n",
            "PPE             -0.758722\n",
            "Name: HNR, dtype: float64\n",
            "age              0.090208\n",
            "sex             -0.159262\n",
            "test_time       -0.038887\n",
            "motor_UPDRS      0.128607\n",
            "total_UPDRS      0.156897\n",
            "Jitter(%)        0.427128\n",
            "Jitter(Abs)      0.547100\n",
            "Jitter:RAP       0.382891\n",
            "Jitter:PPQ5      0.381503\n",
            "Jitter:DDP       0.382886\n",
            "Shimmer          0.468235\n",
            "Shimmer(dB)      0.472409\n",
            "Shimmer:APQ3     0.436878\n",
            "Shimmer:APQ5     0.450890\n",
            "Shimmer:APQ11    0.480739\n",
            "Shimmer:DDA      0.436872\n",
            "NHR              0.416660\n",
            "HNR             -0.659053\n",
            "RPDE             1.000000\n",
            "DFA              0.192030\n",
            "PPE              0.566065\n",
            "Name: RPDE, dtype: float64\n",
            "age             -0.092870\n",
            "sex             -0.165113\n",
            "test_time        0.019261\n",
            "motor_UPDRS     -0.116242\n",
            "total_UPDRS     -0.113475\n",
            "Jitter(%)        0.226550\n",
            "Jitter(Abs)      0.352264\n",
            "Jitter:RAP       0.214881\n",
            "Jitter:PPQ5      0.175359\n",
            "Jitter:DDP       0.214893\n",
            "Shimmer          0.132540\n",
            "Shimmer(dB)      0.126111\n",
            "Shimmer:APQ3     0.130735\n",
            "Shimmer:APQ5     0.128038\n",
            "Shimmer:APQ11    0.179648\n",
            "Shimmer:DDA      0.130736\n",
            "NHR             -0.022088\n",
            "HNR             -0.290519\n",
            "RPDE             0.192030\n",
            "DFA              1.000000\n",
            "PPE              0.394650\n",
            "Name: DFA, dtype: float64\n",
            "age              0.120790\n",
            "sex             -0.099901\n",
            "test_time       -0.000563\n",
            "motor_UPDRS      0.162433\n",
            "total_UPDRS      0.156195\n",
            "Jitter(%)        0.721849\n",
            "Jitter(Abs)      0.787853\n",
            "Jitter:RAP       0.670652\n",
            "Jitter:PPQ5      0.663491\n",
            "Jitter:DDP       0.670660\n",
            "Shimmer          0.615709\n",
            "Shimmer(dB)      0.635163\n",
            "Shimmer:APQ3     0.576704\n",
            "Shimmer:APQ5     0.593677\n",
            "Shimmer:APQ11    0.623416\n",
            "Shimmer:DDA      0.576702\n",
            "NHR              0.564654\n",
            "HNR             -0.758722\n",
            "RPDE             0.566065\n",
            "DFA              0.394650\n",
            "PPE              1.000000\n",
            "Name: PPE, dtype: float64\n"
          ],
          "name": "stdout"
        }
      ]
    },
    {
      "metadata": {
        "id": "hvvlQCdCN3ug",
        "colab_type": "text"
      },
      "cell_type": "markdown",
      "source": [
        "total_UPDRS  = motor_UPDRS\n",
        "Jitter:RAP = Jitter(%)\n",
        "Jitter:PPQ5 = Jitter(%)\n",
        "Jitter:DDP = Jitter(%)\n",
        "Jitter:PPQ5 = Jitter:RAP\n",
        "Jitter:DDP = Jitter(PPQ5)\n",
        "Shimmer(dB) = Shimmer\n",
        "Shimmer:APQ3     = Shimmer\n",
        "Shimmer:APQ3     = Shimmer\n",
        "Shimmer:APQ11    = Shimmer\n",
        "Shimmer:DDA      = Shimmer\n",
        "Shimmer:APQ3     = Shimmer(dB)\n",
        "Shimmer:APQ5     = Shimmer(dB)\n",
        "Shimmer:APQ11    = Shimmer(dB)\n",
        "Shimmer:DDA      = Shimmer(dB)\n",
        "\n",
        "Conclusion: Remove  all Jitter's except for Jitter(%), and remove all Shimmers except for Shimmer."
      ]
    },
    {
      "metadata": {
        "id": "75xlJTPkXwpW",
        "colab_type": "code",
        "colab": {}
      },
      "cell_type": "code",
      "source": [
        "data.drop(['Jitter:RAP', 'Jitter:PPQ5', 'Jitter:DDP', 'Shimmer(dB)', 'Shimmer:APQ3', 'Shimmer:APQ11', 'Shimmer:DDA', 'Shimmer:APQ5', 'Jitter(Abs)'], axis=1, inplace=True)"
      ],
      "execution_count": 0,
      "outputs": []
    },
    {
      "metadata": {
        "id": "wh2CW_9KPm2_",
        "colab_type": "code",
        "colab": {
          "base_uri": "https://localhost:8080/",
          "height": 34
        },
        "outputId": "31c7f1a4-1842-4332-a3cf-1e48128753de"
      },
      "cell_type": "code",
      "source": [
        "data['PPE'].std() / data['PPE'].mean()"
      ],
      "execution_count": 97,
      "outputs": [
        {
          "output_type": "execute_result",
          "data": {
            "text/plain": [
              "0.41668034071656895"
            ]
          },
          "metadata": {
            "tags": []
          },
          "execution_count": 97
        }
      ]
    },
    {
      "metadata": {
        "id": "8PjaS2onPt-j",
        "colab_type": "text"
      },
      "cell_type": "markdown",
      "source": [
        "There is a lot variance in the outcome variable."
      ]
    },
    {
      "metadata": {
        "id": "N9cW6rsrYUsK",
        "colab_type": "code",
        "colab": {}
      },
      "cell_type": "code",
      "source": [
        "import matplotlib.pyplot as plt\n",
        "%matplotlib inline"
      ],
      "execution_count": 0,
      "outputs": []
    },
    {
      "metadata": {
        "id": "XdrCFljNYaTH",
        "colab_type": "code",
        "colab": {
          "base_uri": "https://localhost:8080/",
          "height": 501
        },
        "outputId": "58b13a58-ddba-4210-a276-532de5a68447"
      },
      "cell_type": "code",
      "source": [
        "data.hist(bins=50)"
      ],
      "execution_count": 99,
      "outputs": [
        {
          "output_type": "execute_result",
          "data": {
            "text/plain": [
              "array([[<matplotlib.axes._subplots.AxesSubplot object at 0x7f58c0cf6048>,\n",
              "        <matplotlib.axes._subplots.AxesSubplot object at 0x7f58beb4d748>,\n",
              "        <matplotlib.axes._subplots.AxesSubplot object at 0x7f58beafcef0>],\n",
              "       [<matplotlib.axes._subplots.AxesSubplot object at 0x7f58beabd5c0>,\n",
              "        <matplotlib.axes._subplots.AxesSubplot object at 0x7f58bea72b00>,\n",
              "        <matplotlib.axes._subplots.AxesSubplot object at 0x7f58bea72b38>],\n",
              "       [<matplotlib.axes._subplots.AxesSubplot object at 0x7f58bea5e390>,\n",
              "        <matplotlib.axes._subplots.AxesSubplot object at 0x7f58bea129b0>,\n",
              "        <matplotlib.axes._subplots.AxesSubplot object at 0x7f58be9d30f0>],\n",
              "       [<matplotlib.axes._subplots.AxesSubplot object at 0x7f58be9e00b8>,\n",
              "        <matplotlib.axes._subplots.AxesSubplot object at 0x7f58be9375c0>,\n",
              "        <matplotlib.axes._subplots.AxesSubplot object at 0x7f58be8f40f0>]],\n",
              "      dtype=object)"
            ]
          },
          "metadata": {
            "tags": []
          },
          "execution_count": 99
        },
        {
          "output_type": "display_data",
          "data": {
            "image/png": "[encoded data removed]",
            "text/plain": [
              "<matplotlib.figure.Figure at 0x7f58c4d0d240>"
            ]
          },
          "metadata": {
            "tags": []
          }
        }
      ]
    },
    {
      "metadata": {
        "id": "qyRmuC_hl_uX",
        "colab_type": "code",
        "colab": {}
      },
      "cell_type": "code",
      "source": [
        "import numpy as np\n",
        "np.random.seed(42)"
      ],
      "execution_count": 0,
      "outputs": []
    },
    {
      "metadata": {
        "id": "7SjXZE_hmCPE",
        "colab_type": "code",
        "colab": {
          "base_uri": "https://localhost:8080/",
          "height": 3264
        },
        "outputId": "2604166c-29c9-45b3-81c9-92697479e48a"
      },
      "cell_type": "code",
      "source": [
        "for key in data.drop(['PPE'], axis=1).keys():\n",
        "  try:\n",
        "    ax = plt.figure()\n",
        "    ax = np.log(data[key]).hist(bins=50)\n",
        "    ax.plot()\n",
        "    plt.title(key)\n",
        "    data[key] = np.log(data[key])\n",
        "  except:\n",
        "    ax = plt.figure()\n",
        "    ax = np.log(data[key] + 1).hist(bins=50)\n",
        "    ax.plot()\n",
        "    plt.title(key)\n",
        "    data[key] = np.log(data[key] + 1)"
      ],
      "execution_count": 101,
      "outputs": [
        {
          "output_type": "stream",
          "text": [
            "/usr/local/lib/python3.6/dist-packages/ipykernel_launcher.py:4: RuntimeWarning: divide by zero encountered in log\n",
            "  after removing the cwd from sys.path.\n",
            "/usr/local/lib/python3.6/dist-packages/ipykernel_launcher.py:4: RuntimeWarning: invalid value encountered in log\n",
            "  after removing the cwd from sys.path.\n",
            "/usr/local/lib/python3.6/dist-packages/ipykernel_launcher.py:7: RuntimeWarning: invalid value encountered in log\n",
            "  import sys\n"
          ],
          "name": "stderr"
        },
        {
          "output_type": "display_data",
          "data": {
            "image/png": "[encoded data removed]",
            "text/plain": [
              "<matplotlib.figure.Figure at 0x7f58be846b00>"
            ]
          },
          "metadata": {
            "tags": []
          }
        },
        {
          "output_type": "display_data",
          "data": {
            "image/png": "[encoded data removed]",
            "text/plain": [
              "<matplotlib.figure.Figure at 0x7f58be815b70>"
            ]
          },
          "metadata": {
            "tags": []
          }
        },
        {
          "output_type": "display_data",
          "data": {
            "image/png": "[encoded data removed]",
            "text/plain": [
              "<matplotlib.figure.Figure at 0x7f58c4e629b0>"
            ]
          },
          "metadata": {
            "tags": []
          }
        },
        {
          "output_type": "display_data",
          "data": {
            "image/png": "[encoded data removed]",
            "text/plain": [
              "<matplotlib.figure.Figure at 0x7f58c53a9a58>"
            ]
          },
          "metadata": {
            "tags": []
          }
        },
        {
          "output_type": "display_data",
          "data": {
            "image/png": "[encoded data removed]",
            "text/plain": [
              "<matplotlib.figure.Figure at 0x7f58c47745f8>"
            ]
          },
          "metadata": {
            "tags": []
          }
        },
        {
          "output_type": "display_data",
          "data": {
            "image/png": "[encoded data removed]",
            "text/plain": [
              "<matplotlib.figure.Figure at 0x7f58c529d8d0>"
            ]
          },
          "metadata": {
            "tags": []
          }
        },
        {
          "output_type": "display_data",
          "data": {
            "image/png": "[encoded data removed]",
            "text/plain": [
              "<matplotlib.figure.Figure at 0x7f58c4663cc0>"
            ]
          },
          "metadata": {
            "tags": []
          }
        },
        {
          "output_type": "display_data",
          "data": {
            "image/png": "[encoded data removed]",
            "text/plain": [
              "<matplotlib.figure.Figure at 0x7f58c4879978>"
            ]
          },
          "metadata": {
            "tags": []
          }
        },
        {
          "output_type": "display_data",
          "data": {
            "image/png": "[encoded data removed]",
            "text/plain": [
              "<matplotlib.figure.Figure at 0x7f58c47cd710>"
            ]
          },
          "metadata": {
            "tags": []
          }
        },
        {
          "output_type": "display_data",
          "data": {
            "image/png": "[encoded data removed]",
            "text/plain": [
              "<matplotlib.figure.Figure at 0x7f58c4dbe860>"
            ]
          },
          "metadata": {
            "tags": []
          }
        },
        {
          "output_type": "display_data",
          "data": {
            "image/png": "[encoded data removed]",
            "text/plain": [
              "<matplotlib.figure.Figure at 0x7f58c4c587f0>"
            ]
          },
          "metadata": {
            "tags": []
          }
        },
        {
          "output_type": "display_data",
          "data": {
            "image/png": "[encoded data removed]",
            "text/plain": [
              "<matplotlib.figure.Figure at 0x7f58c52d9240>"
            ]
          },
          "metadata": {
            "tags": []
          }
        }
      ]
    },
    {
      "metadata": {
        "id": "KlTLODOPn1l9",
        "colab_type": "code",
        "colab": {
          "base_uri": "https://localhost:8080/",
          "height": 238
        },
        "outputId": "2f201b8e-f10d-4793-b459-0924708d4110"
      },
      "cell_type": "code",
      "source": [
        "data.isnull().any()"
      ],
      "execution_count": 102,
      "outputs": [
        {
          "output_type": "execute_result",
          "data": {
            "text/plain": [
              "age            False\n",
              "sex            False\n",
              "test_time       True\n",
              "motor_UPDRS    False\n",
              "total_UPDRS    False\n",
              "Jitter(%)      False\n",
              "Shimmer        False\n",
              "NHR            False\n",
              "HNR            False\n",
              "RPDE           False\n",
              "DFA            False\n",
              "PPE            False\n",
              "dtype: bool"
            ]
          },
          "metadata": {
            "tags": []
          },
          "execution_count": 102
        }
      ]
    },
    {
      "metadata": {
        "id": "gmb59r0sn4Ul",
        "colab_type": "code",
        "colab": {
          "base_uri": "https://localhost:8080/",
          "height": 34
        },
        "outputId": "b3e08773-b0ef-4e6a-b094-ece258526fea"
      },
      "cell_type": "code",
      "source": [
        "data.isnull().any().sum()"
      ],
      "execution_count": 103,
      "outputs": [
        {
          "output_type": "execute_result",
          "data": {
            "text/plain": [
              "1"
            ]
          },
          "metadata": {
            "tags": []
          },
          "execution_count": 103
        }
      ]
    },
    {
      "metadata": {
        "id": "-QXipsEVn6_c",
        "colab_type": "code",
        "colab": {}
      },
      "cell_type": "code",
      "source": [
        "data.dropna(inplace=True)"
      ],
      "execution_count": 0,
      "outputs": []
    },
    {
      "metadata": {
        "id": "5w9-0ZtroFLi",
        "colab_type": "code",
        "colab": {
          "base_uri": "https://localhost:8080/",
          "height": 297
        },
        "outputId": "0ca02461-7164-4d9b-e7bf-0104319ca526"
      },
      "cell_type": "code",
      "source": [
        "data.describe()"
      ],
      "execution_count": 105,
      "outputs": [
        {
          "output_type": "execute_result",
          "data": {
            "text/html": [
              "<div>\n",
              "<style scoped>\n",
              "    .dataframe tbody tr th:only-of-type {\n",
              "        vertical-align: middle;\n",
              "    }\n",
              "\n",
              "    .dataframe tbody tr th {\n",
              "        vertical-align: top;\n",
              "    }\n",
              "\n",
              "    .dataframe thead th {\n",
              "        text-align: right;\n",
              "    }\n",
              "</style>\n",
              "<table border=\"1\" class=\"dataframe\">\n",
              "  <thead>\n",
              "    <tr style=\"text-align: right;\">\n",
              "      <th></th>\n",
              "      <th>age</th>\n",
              "      <th>sex</th>\n",
              "      <th>test_time</th>\n",
              "      <th>motor_UPDRS</th>\n",
              "      <th>total_UPDRS</th>\n",
              "      <th>Jitter(%)</th>\n",
              "      <th>Shimmer</th>\n",
              "      <th>NHR</th>\n",
              "      <th>HNR</th>\n",
              "      <th>RPDE</th>\n",
              "      <th>DFA</th>\n",
              "      <th>PPE</th>\n",
              "    </tr>\n",
              "  </thead>\n",
              "  <tbody>\n",
              "    <tr>\n",
              "      <th>count</th>\n",
              "      <td>5863.000000</td>\n",
              "      <td>5863.000000</td>\n",
              "      <td>5863.000000</td>\n",
              "      <td>5863.000000</td>\n",
              "      <td>5863.000000</td>\n",
              "      <td>5863.000000</td>\n",
              "      <td>5863.000000</td>\n",
              "      <td>5863.000000</td>\n",
              "      <td>5863.000000</td>\n",
              "      <td>5863.000000</td>\n",
              "      <td>5863.000000</td>\n",
              "      <td>5863.000000</td>\n",
              "    </tr>\n",
              "    <tr>\n",
              "      <th>mean</th>\n",
              "      <td>4.161531</td>\n",
              "      <td>0.220724</td>\n",
              "      <td>4.269254</td>\n",
              "      <td>2.972254</td>\n",
              "      <td>3.289401</td>\n",
              "      <td>-5.276545</td>\n",
              "      <td>-3.563787</td>\n",
              "      <td>-3.974571</td>\n",
              "      <td>3.049546</td>\n",
              "      <td>-0.632045</td>\n",
              "      <td>-0.431640</td>\n",
              "      <td>0.219618</td>\n",
              "    </tr>\n",
              "    <tr>\n",
              "      <th>std</th>\n",
              "      <td>0.144836</td>\n",
              "      <td>0.322944</td>\n",
              "      <td>0.867239</td>\n",
              "      <td>0.437819</td>\n",
              "      <td>0.418705</td>\n",
              "      <td>0.550504</td>\n",
              "      <td>0.575495</td>\n",
              "      <td>0.932060</td>\n",
              "      <td>0.260207</td>\n",
              "      <td>0.196269</td>\n",
              "      <td>0.107990</td>\n",
              "      <td>0.091494</td>\n",
              "    </tr>\n",
              "    <tr>\n",
              "      <th>min</th>\n",
              "      <td>3.583519</td>\n",
              "      <td>0.000000</td>\n",
              "      <td>-0.926770</td>\n",
              "      <td>1.616950</td>\n",
              "      <td>1.945910</td>\n",
              "      <td>-7.094085</td>\n",
              "      <td>-5.789340</td>\n",
              "      <td>-8.159519</td>\n",
              "      <td>0.506215</td>\n",
              "      <td>-1.890343</td>\n",
              "      <td>-0.665454</td>\n",
              "      <td>0.021983</td>\n",
              "    </tr>\n",
              "    <tr>\n",
              "      <th>25%</th>\n",
              "      <td>4.060443</td>\n",
              "      <td>0.000000</td>\n",
              "      <td>3.857261</td>\n",
              "      <td>2.708050</td>\n",
              "      <td>3.061614</td>\n",
              "      <td>-5.632392</td>\n",
              "      <td>-3.957544</td>\n",
              "      <td>-4.514188</td>\n",
              "      <td>2.965479</td>\n",
              "      <td>-0.755672</td>\n",
              "      <td>-0.517347</td>\n",
              "      <td>0.156385</td>\n",
              "    </tr>\n",
              "    <tr>\n",
              "      <th>50%</th>\n",
              "      <td>4.174387</td>\n",
              "      <td>0.000000</td>\n",
              "      <td>4.519111</td>\n",
              "      <td>3.038361</td>\n",
              "      <td>3.314986</td>\n",
              "      <td>-5.318520</td>\n",
              "      <td>-3.592479</td>\n",
              "      <td>-3.992799</td>\n",
              "      <td>3.087263</td>\n",
              "      <td>-0.612028</td>\n",
              "      <td>-0.440756</td>\n",
              "      <td>0.205560</td>\n",
              "    </tr>\n",
              "    <tr>\n",
              "      <th>75%</th>\n",
              "      <td>4.276666</td>\n",
              "      <td>0.693147</td>\n",
              "      <td>4.930581</td>\n",
              "      <td>3.317598</td>\n",
              "      <td>3.594583</td>\n",
              "      <td>-4.990833</td>\n",
              "      <td>-3.224517</td>\n",
              "      <td>-3.458911</td>\n",
              "      <td>3.196446</td>\n",
              "      <td>-0.487687</td>\n",
              "      <td>-0.340408</td>\n",
              "      <td>0.264590</td>\n",
              "    </tr>\n",
              "    <tr>\n",
              "      <th>max</th>\n",
              "      <td>4.442651</td>\n",
              "      <td>0.693147</td>\n",
              "      <td>5.372915</td>\n",
              "      <td>3.676579</td>\n",
              "      <td>4.007188</td>\n",
              "      <td>-2.302685</td>\n",
              "      <td>-1.314420</td>\n",
              "      <td>-0.290005</td>\n",
              "      <td>3.634291</td>\n",
              "      <td>-0.034509</td>\n",
              "      <td>-0.144332</td>\n",
              "      <td>0.731730</td>\n",
              "    </tr>\n",
              "  </tbody>\n",
              "</table>\n",
              "</div>"
            ],
            "text/plain": [
              "               age          sex    test_time  motor_UPDRS  total_UPDRS  \\\n",
              "count  5863.000000  5863.000000  5863.000000  5863.000000  5863.000000   \n",
              "mean      4.161531     0.220724     4.269254     2.972254     3.289401   \n",
              "std       0.144836     0.322944     0.867239     0.437819     0.418705   \n",
              "min       3.583519     0.000000    -0.926770     1.616950     1.945910   \n",
              "25%       4.060443     0.000000     3.857261     2.708050     3.061614   \n",
              "50%       4.174387     0.000000     4.519111     3.038361     3.314986   \n",
              "75%       4.276666     0.693147     4.930581     3.317598     3.594583   \n",
              "max       4.442651     0.693147     5.372915     3.676579     4.007188   \n",
              "\n",
              "         Jitter(%)      Shimmer          NHR          HNR         RPDE  \\\n",
              "count  5863.000000  5863.000000  5863.000000  5863.000000  5863.000000   \n",
              "mean     -5.276545    -3.563787    -3.974571     3.049546    -0.632045   \n",
              "std       0.550504     0.575495     0.932060     0.260207     0.196269   \n",
              "min      -7.094085    -5.789340    -8.159519     0.506215    -1.890343   \n",
              "25%      -5.632392    -3.957544    -4.514188     2.965479    -0.755672   \n",
              "50%      -5.318520    -3.592479    -3.992799     3.087263    -0.612028   \n",
              "75%      -4.990833    -3.224517    -3.458911     3.196446    -0.487687   \n",
              "max      -2.302685    -1.314420    -0.290005     3.634291    -0.034509   \n",
              "\n",
              "               DFA          PPE  \n",
              "count  5863.000000  5863.000000  \n",
              "mean     -0.431640     0.219618  \n",
              "std       0.107990     0.091494  \n",
              "min      -0.665454     0.021983  \n",
              "25%      -0.517347     0.156385  \n",
              "50%      -0.440756     0.205560  \n",
              "75%      -0.340408     0.264590  \n",
              "max      -0.144332     0.731730  "
            ]
          },
          "metadata": {
            "tags": []
          },
          "execution_count": 105
        }
      ]
    },
    {
      "metadata": {
        "id": "T5fKKGtpm3fC",
        "colab_type": "code",
        "colab": {}
      },
      "cell_type": "code",
      "source": [
        "from sklearn.model_selection import train_test_split, cross_val_score, KFold, learning_curve, GridSearchCV\n",
        "\n",
        "X = data.drop(['PPE'], axis=1).values\n",
        "Y = data['PPE'].values\n",
        "\n",
        "trainX, testX, trainY, testY = train_test_split(X, Y, test_size=.2)"
      ],
      "execution_count": 0,
      "outputs": []
    },
    {
      "metadata": {
        "id": "Uc6TwqDTnbxK",
        "colab_type": "code",
        "colab": {}
      },
      "cell_type": "code",
      "source": [
        "from sklearn.preprocessing import StandardScaler, PolynomialFeatures\n",
        "from sklearn.pipeline import Pipeline\n",
        "from sklearn.linear_model import SGDRegressor"
      ],
      "execution_count": 0,
      "outputs": []
    },
    {
      "metadata": {
        "id": "RLWIp-n5nkzV",
        "colab_type": "code",
        "colab": {}
      },
      "cell_type": "code",
      "source": [
        "pipe = Pipeline([\n",
        "    (\"scaler\", StandardScaler()),\n",
        "    (\"poly\", PolynomialFeatures(degree=1)),\n",
        "    (\"lr\", SGDRegressor())\n",
        "])"
      ],
      "execution_count": 0,
      "outputs": []
    },
    {
      "metadata": {
        "id": "toJEt06rrQ8a",
        "colab_type": "code",
        "colab": {
          "base_uri": "https://localhost:8080/",
          "height": 275
        },
        "outputId": "eeedda11-0650-4bd9-bf93-043bca1b308a"
      },
      "cell_type": "code",
      "source": [
        "params = {\n",
        "    \"poly__degree\":[1,2,3,4]\n",
        "}\n",
        "\n",
        "grid = GridSearchCV(pipe, params, cv=5, verbose=-1, n_jobs=-1, scoring='neg_mean_squared_error')\n",
        "grid.fit(trainX, trainY)"
      ],
      "execution_count": 109,
      "outputs": [
        {
          "output_type": "stream",
          "text": [
            "[Parallel(n_jobs=-1)]: Using backend LokyBackend with 2 concurrent workers.\n",
            "[Parallel(n_jobs=-1)]: Done  20 out of  20 | elapsed:    3.0s finished\n",
            "/usr/local/lib/python3.6/dist-packages/sklearn/linear_model/stochastic_gradient.py:166: FutureWarning: max_iter and tol parameters have been added in SGDRegressor in 0.19. If both are left unset, they default to max_iter=5 and tol=None. If tol is not None, max_iter defaults to max_iter=1000. From 0.21, default max_iter will be 1000, and default tol will be 1e-3.\n",
            "  FutureWarning)\n"
          ],
          "name": "stderr"
        },
        {
          "output_type": "execute_result",
          "data": {
            "text/plain": [
              "GridSearchCV(cv=5, error_score='raise-deprecating',\n",
              "       estimator=Pipeline(memory=None,\n",
              "     steps=[('scaler', StandardScaler(copy=True, with_mean=True, with_std=True)), ('poly', PolynomialFeatures(degree=1, include_bias=True, interaction_only=False)), ('lr', SGDRegressor(alpha=0.0001, average=False, early_stopping=False, epsilon=0.1,\n",
              "       eta0=0.01, fit_intercept=True, l1_ratio=0.15,\n",
              "   ...m_state=None, shuffle=True, tol=None, validation_fraction=0.1,\n",
              "       verbose=0, warm_start=False))]),\n",
              "       fit_params=None, iid='warn', n_jobs=-1,\n",
              "       param_grid={'poly__degree': [1, 2, 3, 4]}, pre_dispatch='2*n_jobs',\n",
              "       refit=True, return_train_score='warn',\n",
              "       scoring='neg_mean_squared_error', verbose=-1)"
            ]
          },
          "metadata": {
            "tags": []
          },
          "execution_count": 109
        }
      ]
    },
    {
      "metadata": {
        "id": "m1oL1hXxsZr7",
        "colab_type": "code",
        "colab": {
          "base_uri": "https://localhost:8080/",
          "height": 34
        },
        "outputId": "6d418fd7-b5bc-49a7-81ff-52d783ee43f5"
      },
      "cell_type": "code",
      "source": [
        "grid.best_params_"
      ],
      "execution_count": 110,
      "outputs": [
        {
          "output_type": "execute_result",
          "data": {
            "text/plain": [
              "{'poly__degree': 1}"
            ]
          },
          "metadata": {
            "tags": []
          },
          "execution_count": 110
        }
      ]
    },
    {
      "metadata": {
        "id": "t40GPUwksdog",
        "colab_type": "code",
        "colab": {
          "base_uri": "https://localhost:8080/",
          "height": 34
        },
        "outputId": "c39ed37d-72b5-412a-d961-bdfe603d94ae"
      },
      "cell_type": "code",
      "source": [
        "grid.best_score_"
      ],
      "execution_count": 111,
      "outputs": [
        {
          "output_type": "execute_result",
          "data": {
            "text/plain": [
              "-0.0019629334591670425"
            ]
          },
          "metadata": {
            "tags": []
          },
          "execution_count": 111
        }
      ]
    },
    {
      "metadata": {
        "id": "Po5W6gL5npuU",
        "colab_type": "code",
        "colab": {
          "base_uri": "https://localhost:8080/",
          "height": 377
        },
        "outputId": "daee0a59-1617-4864-fc1f-a09947d39204"
      },
      "cell_type": "code",
      "source": [
        "kfold = KFold(shuffle=True, n_splits=10)\n",
        "score = cross_val_score(pipe, trainX, trainY, cv=kfold, scoring='neg_mean_squared_error')"
      ],
      "execution_count": 112,
      "outputs": [
        {
          "output_type": "stream",
          "text": [
            "/usr/local/lib/python3.6/dist-packages/sklearn/linear_model/stochastic_gradient.py:166: FutureWarning: max_iter and tol parameters have been added in SGDRegressor in 0.19. If both are left unset, they default to max_iter=5 and tol=None. If tol is not None, max_iter defaults to max_iter=1000. From 0.21, default max_iter will be 1000, and default tol will be 1e-3.\n",
            "  FutureWarning)\n",
            "/usr/local/lib/python3.6/dist-packages/sklearn/linear_model/stochastic_gradient.py:166: FutureWarning: max_iter and tol parameters have been added in SGDRegressor in 0.19. If both are left unset, they default to max_iter=5 and tol=None. If tol is not None, max_iter defaults to max_iter=1000. From 0.21, default max_iter will be 1000, and default tol will be 1e-3.\n",
            "  FutureWarning)\n",
            "/usr/local/lib/python3.6/dist-packages/sklearn/linear_model/stochastic_gradient.py:166: FutureWarning: max_iter and tol parameters have been added in SGDRegressor in 0.19. If both are left unset, they default to max_iter=5 and tol=None. If tol is not None, max_iter defaults to max_iter=1000. From 0.21, default max_iter will be 1000, and default tol will be 1e-3.\n",
            "  FutureWarning)\n",
            "/usr/local/lib/python3.6/dist-packages/sklearn/linear_model/stochastic_gradient.py:166: FutureWarning: max_iter and tol parameters have been added in SGDRegressor in 0.19. If both are left unset, they default to max_iter=5 and tol=None. If tol is not None, max_iter defaults to max_iter=1000. From 0.21, default max_iter will be 1000, and default tol will be 1e-3.\n",
            "  FutureWarning)\n",
            "/usr/local/lib/python3.6/dist-packages/sklearn/linear_model/stochastic_gradient.py:166: FutureWarning: max_iter and tol parameters have been added in SGDRegressor in 0.19. If both are left unset, they default to max_iter=5 and tol=None. If tol is not None, max_iter defaults to max_iter=1000. From 0.21, default max_iter will be 1000, and default tol will be 1e-3.\n",
            "  FutureWarning)\n",
            "/usr/local/lib/python3.6/dist-packages/sklearn/linear_model/stochastic_gradient.py:166: FutureWarning: max_iter and tol parameters have been added in SGDRegressor in 0.19. If both are left unset, they default to max_iter=5 and tol=None. If tol is not None, max_iter defaults to max_iter=1000. From 0.21, default max_iter will be 1000, and default tol will be 1e-3.\n",
            "  FutureWarning)\n",
            "/usr/local/lib/python3.6/dist-packages/sklearn/linear_model/stochastic_gradient.py:166: FutureWarning: max_iter and tol parameters have been added in SGDRegressor in 0.19. If both are left unset, they default to max_iter=5 and tol=None. If tol is not None, max_iter defaults to max_iter=1000. From 0.21, default max_iter will be 1000, and default tol will be 1e-3.\n",
            "  FutureWarning)\n",
            "/usr/local/lib/python3.6/dist-packages/sklearn/linear_model/stochastic_gradient.py:166: FutureWarning: max_iter and tol parameters have been added in SGDRegressor in 0.19. If both are left unset, they default to max_iter=5 and tol=None. If tol is not None, max_iter defaults to max_iter=1000. From 0.21, default max_iter will be 1000, and default tol will be 1e-3.\n",
            "  FutureWarning)\n",
            "/usr/local/lib/python3.6/dist-packages/sklearn/linear_model/stochastic_gradient.py:166: FutureWarning: max_iter and tol parameters have been added in SGDRegressor in 0.19. If both are left unset, they default to max_iter=5 and tol=None. If tol is not None, max_iter defaults to max_iter=1000. From 0.21, default max_iter will be 1000, and default tol will be 1e-3.\n",
            "  FutureWarning)\n",
            "/usr/local/lib/python3.6/dist-packages/sklearn/linear_model/stochastic_gradient.py:166: FutureWarning: max_iter and tol parameters have been added in SGDRegressor in 0.19. If both are left unset, they default to max_iter=5 and tol=None. If tol is not None, max_iter defaults to max_iter=1000. From 0.21, default max_iter will be 1000, and default tol will be 1e-3.\n",
            "  FutureWarning)\n"
          ],
          "name": "stderr"
        }
      ]
    },
    {
      "metadata": {
        "id": "Ym-hbOiJoCMm",
        "colab_type": "code",
        "colab": {
          "base_uri": "https://localhost:8080/",
          "height": 34
        },
        "outputId": "164d39df-3e20-403d-8a32-1e71eef23054"
      },
      "cell_type": "code",
      "source": [
        "score.mean()"
      ],
      "execution_count": 113,
      "outputs": [
        {
          "output_type": "execute_result",
          "data": {
            "text/plain": [
              "-0.0019520088479332703"
            ]
          },
          "metadata": {
            "tags": []
          },
          "execution_count": 113
        }
      ]
    },
    {
      "metadata": {
        "id": "_GtCpnOVpanh",
        "colab_type": "code",
        "colab": {}
      },
      "cell_type": "code",
      "source": [
        "from sklearn.metrics import r2_score"
      ],
      "execution_count": 0,
      "outputs": []
    },
    {
      "metadata": {
        "id": "GX9_i1sloKFl",
        "colab_type": "code",
        "colab": {
          "base_uri": "https://localhost:8080/",
          "height": 88
        },
        "outputId": "312b4958-d7a2-482d-bb9e-01fe851a70bf"
      },
      "cell_type": "code",
      "source": [
        "pipe.fit(trainX, trainY)\n",
        "\n",
        "print(r2_score(testY, pipe.predict(testX)))"
      ],
      "execution_count": 115,
      "outputs": [
        {
          "output_type": "stream",
          "text": [
            "0.7627437420266528\n"
          ],
          "name": "stdout"
        },
        {
          "output_type": "stream",
          "text": [
            "/usr/local/lib/python3.6/dist-packages/sklearn/linear_model/stochastic_gradient.py:166: FutureWarning: max_iter and tol parameters have been added in SGDRegressor in 0.19. If both are left unset, they default to max_iter=5 and tol=None. If tol is not None, max_iter defaults to max_iter=1000. From 0.21, default max_iter will be 1000, and default tol will be 1e-3.\n",
            "  FutureWarning)\n"
          ],
          "name": "stderr"
        }
      ]
    },
    {
      "metadata": {
        "id": "TkYVfrj7pqay",
        "colab_type": "code",
        "colab": {
          "base_uri": "https://localhost:8080/",
          "height": 333
        },
        "outputId": "e9b1ec3d-b91f-4f7e-811d-0c23366243ee"
      },
      "cell_type": "code",
      "source": [
        "train_sizes = [1,1000,2000,3752]\n",
        "\n",
        "train_size, train_score, test_score = learning_curve(\n",
        "  estimator=pipe,\n",
        "  X=trainX,\n",
        "  y=trainY,\n",
        "  cv=5,\n",
        "  n_jobs=-1,\n",
        "  verbose=3,\n",
        "  train_sizes=train_sizes,\n",
        "  scoring='neg_mean_squared_error'\n",
        ")\n",
        "\n",
        "mean_train = -train_score.mean(axis=1)\n",
        "mean_test = -test_score.mean(axis=1)\n",
        "\n",
        "plt.plot(train_size, mean_train, 'r-', label='train')\n",
        "plt.plot(train_size, mean_test, 'g-', label='test')\n",
        "\n",
        "plt.legend()\n",
        "\n",
        "plt.show()"
      ],
      "execution_count": 116,
      "outputs": [
        {
          "output_type": "stream",
          "text": [
            "[Parallel(n_jobs=-1)]: Using backend LokyBackend with 2 concurrent workers.\n",
            "[Parallel(n_jobs=-1)]: Done   1 out of   4 | elapsed:    0.0s remaining:    0.0s\n"
          ],
          "name": "stderr"
        },
        {
          "output_type": "stream",
          "text": [
            "[learning_curve] Training set sizes: [   1 1000 2000 3752]\n"
          ],
          "name": "stdout"
        },
        {
          "output_type": "stream",
          "text": [
            "[Parallel(n_jobs=-1)]: Done  20 out of  20 | elapsed:    0.3s finished\n"
          ],
          "name": "stderr"
        },
        {
          "output_type": "display_data",
          "data": {
            "image/png": "[encoded data removed]",
            "text/plain": [
              "<matplotlib.figure.Figure at 0x7f58c4706c88>"
            ]
          },
          "metadata": {
            "tags": []
          }
        }
      ]
    },
    {
      "metadata": {
        "id": "4aPETUrmPqau",
        "colab_type": "text"
      },
      "cell_type": "markdown",
      "source": [
        "Now looking at our linear regression model, we noticed that it got about 75% correct.  Now for our task, predicting parkinson's with only a score of 75% is pretty bad.  We are going to try to aim for about 90% or more.\n",
        "\n",
        "But before we just use a random forest model, and call it a day (random forest will most likely work well), we are going to try to explain why linear regression did not work on our data.\n",
        "\n",
        "Looking back at our learning curve, we found that since our model converged with the high bias, it was underfitting our data.  In order to discover exactly why our model was underfitting our data, we need to revisit the 5 assumptions of linear regression.\n",
        "\n",
        "1. The data has a linear relationship.\n",
        "2. The data has a normal distribution. (or close to it).\n",
        "3. Our data has little to no correlation in the predictors.\n",
        "4. Our data has a low variance / standard deviation.\n",
        "5. Our data has no autocorrelation."
      ]
    },
    {
      "metadata": {
        "id": "H1B8KX0RSmOB",
        "colab_type": "text"
      },
      "cell_type": "markdown",
      "source": [
        "Now lets review each of these one by one.\n",
        "\n",
        "Looking at our data, we discovered that it has a linear relationship of 1 degree.  This was discovered when we used the grid search to find the degree of the function.  Another reason is that we could assume that most likely the data would underfit a lot more if the data was not even linear to begin with.\n",
        "\n",
        "Our data also has a very normal distribution.   Aside from the few predictors that are slightly skewed to the left or right, our data isn't widly distributed.  This may be a reason for underperforming, but it is unlikely the main reason.\n",
        "\n",
        "While our predictors did have some correlation in the predictors, we examined this, and removed them from the data.  So, it is unlikely that this is one of the reasons why.\n",
        "\n",
        "Fourth, our data need to have a low variance / standard deviation.  Looking back at the test we did earlier, we found that our data actually does have a somewhat high variance (about 50% of the data).  This would most likely be the real reason for our underperforming, as it would also explain the fact that we didn't underfit a lot, but just enough to not be very accurate.\n",
        "\n",
        "Lastly is autocorrelation.  We are just going to assume that since our independant variables are clearly independant of each other, that there is little to no autocorrelation."
      ]
    },
    {
      "metadata": {
        "id": "DxTq6HzLdG7y",
        "colab_type": "text"
      },
      "cell_type": "markdown",
      "source": [
        "Another thing worth considering with linear regression is that it is greatly affected by outliers.  So, lets try to find how much of the data are ourliers, and how large those outliers are."
      ]
    },
    {
      "metadata": {
        "id": "hfGD2TVFdRWn",
        "colab_type": "code",
        "colab": {
          "base_uri": "https://localhost:8080/",
          "height": 34
        },
        "outputId": "66db7914-46ee-4c17-fab9-3829ef2deb25"
      },
      "cell_type": "code",
      "source": [
        "outliers = data[~(np.abs(data['PPE'] - data['PPE'].mean()) > (3 * data['PPE'].std()))]\n",
        "\n",
        "len(outliers) / len(data)"
      ],
      "execution_count": 117,
      "outputs": [
        {
          "output_type": "execute_result",
          "data": {
            "text/plain": [
              "0.9872079140371823"
            ]
          },
          "metadata": {
            "tags": []
          },
          "execution_count": 117
        }
      ]
    },
    {
      "metadata": {
        "id": "RN0CAAn_dw5Y",
        "colab_type": "text"
      },
      "cell_type": "markdown",
      "source": [
        "Oddly enough, most of our data is considered outliers.  This is due to the high variance of our data (just like we said).  Now lets find how large these outliers are."
      ]
    },
    {
      "metadata": {
        "id": "AI6nwP8Nd6Xp",
        "colab_type": "code",
        "colab": {
          "base_uri": "https://localhost:8080/",
          "height": 34
        },
        "outputId": "9f030c5a-19f0-470b-c66a-94f3e129b9f9"
      },
      "cell_type": "code",
      "source": [
        "outliers['PPE'].mean()"
      ],
      "execution_count": 118,
      "outputs": [
        {
          "output_type": "execute_result",
          "data": {
            "text/plain": [
              "0.21528164426399446"
            ]
          },
          "metadata": {
            "tags": []
          },
          "execution_count": 118
        }
      ]
    },
    {
      "metadata": {
        "id": "Sd51lozeeFAf",
        "colab_type": "text"
      },
      "cell_type": "markdown",
      "source": [
        "Based on the average value of the outliers vs. the average value of the normal data, we can determine that none of our data has significantly large outliers.  Once again, this is a result of high variance in the data."
      ]
    },
    {
      "metadata": {
        "id": "zo08s8O3UBzy",
        "colab_type": "text"
      },
      "cell_type": "markdown",
      "source": [
        "So, now that we have actually diagnosed our problem (high variance), we can easily pick what model to use next, as we can chose one that directly addressed the flaws of the linear regression. (See!  Actually doing some dawta science and not just blindly building models untill we get a good score)."
      ]
    },
    {
      "metadata": {
        "id": "LqlkuxzaUZx_",
        "colab_type": "text"
      },
      "cell_type": "markdown",
      "source": [
        "Based on the high variance that we saw in the data, we have decided that next we will try a SVM with a RBF kernel.  The reason is that RBF kernel's have the ability to pick our boundaries that we not nessisarily linear, but also not necessarily of a higher degree.  This is perfect for our problem."
      ]
    },
    {
      "metadata": {
        "id": "unNJyCYIe5ID",
        "colab_type": "code",
        "colab": {}
      },
      "cell_type": "code",
      "source": [
        "from sklearn.svm import SVR\n",
        "\n",
        "pipe2 = Pipeline([\n",
        "    (\"scaler\", StandardScaler()),\n",
        "    (\"svr\", SVR(kernel='rbf', gamma=0.01, C=0.1))\n",
        "])"
      ],
      "execution_count": 0,
      "outputs": []
    },
    {
      "metadata": {
        "id": "ablSL-2fgASV",
        "colab_type": "code",
        "colab": {
          "base_uri": "https://localhost:8080/",
          "height": 224
        },
        "outputId": "6d0c58f5-ac2c-4712-ce9e-c5ee07e5f517"
      },
      "cell_type": "code",
      "source": [
        "params = {\n",
        "    \"svr__C\":[0.1, 0.01, .0010, .000100]\n",
        "}\n",
        "\n",
        "grid = GridSearchCV(pipe2, params, cv=5, verbose=3, n_jobs=-1)\n",
        "grid.fit(trainX, trainY)"
      ],
      "execution_count": 120,
      "outputs": [
        {
          "output_type": "stream",
          "text": [
            "Fitting 5 folds for each of 4 candidates, totalling 20 fits\n"
          ],
          "name": "stdout"
        },
        {
          "output_type": "stream",
          "text": [
            "[Parallel(n_jobs=-1)]: Using backend LokyBackend with 2 concurrent workers.\n",
            "[Parallel(n_jobs=-1)]: Done  20 out of  20 | elapsed:    2.9s finished\n"
          ],
          "name": "stderr"
        },
        {
          "output_type": "execute_result",
          "data": {
            "text/plain": [
              "GridSearchCV(cv=5, error_score='raise-deprecating',\n",
              "       estimator=Pipeline(memory=None,\n",
              "     steps=[('scaler', StandardScaler(copy=True, with_mean=True, with_std=True)), ('svr', SVR(C=0.1, cache_size=200, coef0=0.0, degree=3, epsilon=0.1, gamma=0.01,\n",
              "  kernel='rbf', max_iter=-1, shrinking=True, tol=0.001, verbose=False))]),\n",
              "       fit_params=None, iid='warn', n_jobs=-1,\n",
              "       param_grid={'svr__C': [0.1, 0.01, 0.001, 0.0001]},\n",
              "       pre_dispatch='2*n_jobs', refit=True, return_train_score='warn',\n",
              "       scoring=None, verbose=3)"
            ]
          },
          "metadata": {
            "tags": []
          },
          "execution_count": 120
        }
      ]
    },
    {
      "metadata": {
        "id": "aSo1FIbXgM8E",
        "colab_type": "code",
        "colab": {
          "base_uri": "https://localhost:8080/",
          "height": 34
        },
        "outputId": "62966139-e4b5-4e26-c236-f770f68cffca"
      },
      "cell_type": "code",
      "source": [
        "grid.best_params_"
      ],
      "execution_count": 121,
      "outputs": [
        {
          "output_type": "execute_result",
          "data": {
            "text/plain": [
              "{'svr__C': 0.1}"
            ]
          },
          "metadata": {
            "tags": []
          },
          "execution_count": 121
        }
      ]
    },
    {
      "metadata": {
        "id": "p0MtBabKfAcs",
        "colab_type": "code",
        "colab": {
          "base_uri": "https://localhost:8080/",
          "height": 51
        },
        "outputId": "e9c7e759-e0d3-4d42-aca7-3903545b827b"
      },
      "cell_type": "code",
      "source": [
        "score = cross_val_score(pipe2, trainX, trainY, cv=kfold, scoring='neg_mean_squared_error', verbose=3, n_jobs=-1)  #we are using the same kfold var. as earlier since nothing changed."
      ],
      "execution_count": 122,
      "outputs": [
        {
          "output_type": "stream",
          "text": [
            "[Parallel(n_jobs=-1)]: Using backend LokyBackend with 2 concurrent workers.\n",
            "[Parallel(n_jobs=-1)]: Done  10 out of  10 | elapsed:    0.4s finished\n"
          ],
          "name": "stderr"
        }
      ]
    },
    {
      "metadata": {
        "id": "vXNdCJuFfPXa",
        "colab_type": "code",
        "colab": {
          "base_uri": "https://localhost:8080/",
          "height": 34
        },
        "outputId": "463738eb-2da3-4fc9-9973-aa89eb0a67fb"
      },
      "cell_type": "code",
      "source": [
        "score.mean()"
      ],
      "execution_count": 123,
      "outputs": [
        {
          "output_type": "execute_result",
          "data": {
            "text/plain": [
              "-0.001980233813740992"
            ]
          },
          "metadata": {
            "tags": []
          },
          "execution_count": 123
        }
      ]
    },
    {
      "metadata": {
        "id": "GZ908kQmfTAJ",
        "colab_type": "code",
        "colab": {
          "base_uri": "https://localhost:8080/",
          "height": 34
        },
        "outputId": "d21a4f63-7dae-4a5b-d285-806ed7d4ea75"
      },
      "cell_type": "code",
      "source": [
        "pipe2.fit(trainX, trainY)\n",
        "\n",
        "print(r2_score(testY, pipe2.predict(testX)))"
      ],
      "execution_count": 124,
      "outputs": [
        {
          "output_type": "stream",
          "text": [
            "0.7605404400780296\n"
          ],
          "name": "stdout"
        }
      ]
    },
    {
      "metadata": {
        "id": "--xE-tScfcAZ",
        "colab_type": "code",
        "colab": {
          "base_uri": "https://localhost:8080/",
          "height": 319
        },
        "outputId": "2bc6538f-cf17-4a21-b81b-8bed4b8bd47d"
      },
      "cell_type": "code",
      "source": [
        "train_sizes = [1,100,1000,3126]\n",
        "\n",
        "train_size, train_score, test_score = learning_curve(\n",
        "  estimator=pipe2,\n",
        "  X=trainX,\n",
        "  y=trainY,\n",
        "  train_sizes=train_sizes,\n",
        "  scoring='neg_mean_squared_error'\n",
        ")\n",
        "\n",
        "mean_train = -train_score.mean(axis=1)\n",
        "mean_test = -test_score.mean(axis=1)\n",
        "\n",
        "plt.plot(train_size, mean_train, 'r-', label='train')\n",
        "plt.plot(train_size, mean_test, 'g-', label='test')\n",
        "plt.legend()\n",
        "plt.show()"
      ],
      "execution_count": 125,
      "outputs": [
        {
          "output_type": "stream",
          "text": [
            "/usr/local/lib/python3.6/dist-packages/sklearn/model_selection/_split.py:2053: FutureWarning: You should specify a value for 'cv' instead of relying on the default value. The default value will change from 3 to 5 in version 0.22.\n",
            "  warnings.warn(CV_WARNING, FutureWarning)\n"
          ],
          "name": "stderr"
        },
        {
          "output_type": "display_data",
          "data": {
            "image/png": "[encoded data removed]",
            "text/plain": [
              "<matplotlib.figure.Figure at 0x7f58be2786a0>"
            ]
          },
          "metadata": {
            "tags": []
          }
        }
      ]
    },
    {
      "metadata": {
        "id": "8_vSmx1dhTVP",
        "colab_type": "text"
      },
      "cell_type": "markdown",
      "source": [
        "Oh-no!  It appears that even after optimizing our RBF kernel, we still scored around the same amount.  There could be a few reasons for our variance.  One is that our sample size of simply too small.  It is worth noting here that the less data you have, the more common high variance is.  \n",
        "\n",
        "Now looks like it's time to break our the big guns (by this we mean the ensemble models).  We are going to start by usinig random forest models.  Keep in mind that when using the linear models, we removed predictors with high correlations, but random forest isn't bothered by this.  So, we are going to import the data again, and train a model without scaling our removing any of the data (except null values)."
      ]
    },
    {
      "metadata": {
        "id": "3D_LDDSkiEFa",
        "colab_type": "code",
        "colab": {}
      },
      "cell_type": "code",
      "source": [
        "from sklearn.ensemble import RandomForestRegressor\n",
        "\n",
        "data = pd.read_csv(\"parkinsons_updrs.csv\").drop(['subject#'], axis=1)"
      ],
      "execution_count": 0,
      "outputs": []
    },
    {
      "metadata": {
        "id": "zxO2PvGsiQlO",
        "colab_type": "code",
        "colab": {
          "base_uri": "https://localhost:8080/",
          "height": 68
        },
        "outputId": "256a672d-7eea-4126-9fab-5792e1cf2c33"
      },
      "cell_type": "code",
      "source": [
        "rf = RandomForestRegressor(n_estimators=250)\n",
        "\n",
        "score = cross_val_score(rf, trainX, trainY, cv=2, scoring='neg_mean_squared_error', verbose=3, n_jobs=-1)"
      ],
      "execution_count": 127,
      "outputs": [
        {
          "output_type": "stream",
          "text": [
            "[Parallel(n_jobs=-1)]: Using backend LokyBackend with 2 concurrent workers.\n",
            "[Parallel(n_jobs=-1)]: Done   2 out of   2 | elapsed:    6.0s finished\n",
            "[Parallel(n_jobs=-1)]: Done   2 out of   2 | elapsed:    6.0s remaining:    0.0s\n"
          ],
          "name": "stderr"
        }
      ]
    },
    {
      "metadata": {
        "id": "5Z970gsDia9g",
        "colab_type": "code",
        "colab": {
          "base_uri": "https://localhost:8080/",
          "height": 34
        },
        "outputId": "531d731d-7663-423f-879f-88ea9c159c1e"
      },
      "cell_type": "code",
      "source": [
        "score.mean()"
      ],
      "execution_count": 128,
      "outputs": [
        {
          "output_type": "execute_result",
          "data": {
            "text/plain": [
              "-0.0015093972654124429"
            ]
          },
          "metadata": {
            "tags": []
          },
          "execution_count": 128
        }
      ]
    },
    {
      "metadata": {
        "id": "7OU6ZVIJi2eq",
        "colab_type": "code",
        "colab": {
          "base_uri": "https://localhost:8080/",
          "height": 34
        },
        "outputId": "7864ffe9-bbfe-4712-c4fa-638175f5da13"
      },
      "cell_type": "code",
      "source": [
        "rf.fit(trainX, trainY)\n",
        "print(r2_score(testY, rf.predict(testX)))"
      ],
      "execution_count": 129,
      "outputs": [
        {
          "output_type": "stream",
          "text": [
            "0.8255559885437294\n"
          ],
          "name": "stdout"
        }
      ]
    },
    {
      "metadata": {
        "id": "LDPzlalyi_1R",
        "colab_type": "text"
      },
      "cell_type": "markdown",
      "source": [
        "We got an 82% with a random forest model.  This is actually considered an indictor that the data we are using is just garbage.  The reason is that RF is an extremely powerful model, as it has a lot of great things going for it that other models do not.  Another reason is that don't have very many samples of data.  This is another indicator of crappy data.  Another reason is the large number of outliers, and a high variance.  So, in this stage of the project, we would go back and try to get more data.  And if despite a large amount of data, our dataset was still bad, we would then go and try to find problems with the source that we are getting our data."
      ]
    }
  ]
}